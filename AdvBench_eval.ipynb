{
 "cells": [
  {
   "cell_type": "code",
   "execution_count": 3,
   "id": "ff1e9d93",
   "metadata": {},
   "outputs": [],
   "source": [
    "import pickle as pkl\n",
    "import numpy as np\n",
    "# from agents import CeleryAgent, LlamaGuardAgent\n",
    "# import conversations"
   ]
  },
  {
   "cell_type": "markdown",
   "id": "10f1c5d0",
   "metadata": {},
   "source": [
    "## Load Data"
   ]
  },
  {
   "cell_type": "markdown",
   "id": "ae0dbde3",
   "metadata": {},
   "source": [
    "### Load Rainbow Teaming Data"
   ]
  },
  {
   "cell_type": "code",
   "execution_count": null,
   "id": "ee174872",
   "metadata": {},
   "outputs": [],
   "source": [
    "# 3 seeds\n",
    "archive = \"/fsx-checkpoint/...\"\n",
    "# archive = \"/fsx-checkpoint/...\"\n",
    "# archive = \"/fsx-checkpoint/...\"\n",
    "\n",
    "# Load archive\n",
    "rt_archive = pkl.load(archive)\n",
    "\n",
    "# Get prompts, responses\n",
    "# Eval all prompts, report ArgMax per category\n",
    "\n",
    "# Regenerate responses sinse LLM should be greedy"
   ]
  },
  {
   "cell_type": "markdown",
   "id": "052fb466",
   "metadata": {},
   "source": [
    "### Load PAIR Data"
   ]
  },
  {
   "cell_type": "code",
   "execution_count": null,
   "id": "279c4a0e",
   "metadata": {},
   "outputs": [],
   "source": [
    "archive = \"/fsx-checkpoint/...\"\n",
    "\n",
    "# Load archive\n",
    "pair_archive = pkl.load(archive)\n",
    "\n",
    "# Get prompts, responses"
   ]
  },
  {
   "cell_type": "markdown",
   "id": "8bff753e",
   "metadata": {},
   "source": [
    "## Evaluate"
   ]
  },
  {
   "cell_type": "markdown",
   "id": "666a6a62",
   "metadata": {},
   "source": [
    "### Eval using Llama-Guard on dialogue (Like Jailbreakbench)"
   ]
  },
  {
   "cell_type": "code",
   "execution_count": null,
   "id": "d41d4b37",
   "metadata": {},
   "outputs": [],
   "source": [
    "gen_params = {\n",
    "    \"temperature\": 0,\n",
    "    \"top_p\": 0.95,\n",
    "    \"max_new_tokens\": 100,\n",
    "}\n",
    "\n",
    "lg_agent = LlamaGuardAgent()\n",
    "\n",
    "# Copy from Jailbreakbench debug"
   ]
  },
  {
   "cell_type": "code",
   "execution_count": null,
   "id": "92a2c98b",
   "metadata": {},
   "outputs": [],
   "source": [
    "# RT: eval all, get uniques"
   ]
  },
  {
   "cell_type": "markdown",
   "id": "b625fae8",
   "metadata": {},
   "source": [
    "### Eval using Llama-Guard on response only (Like RT)"
   ]
  },
  {
   "cell_type": "code",
   "execution_count": null,
   "id": "b6834239",
   "metadata": {},
   "outputs": [],
   "source": [
    "gen_params = {\n",
    "    \"temperature\": 0,\n",
    "    \"top_p\": 0.95,\n",
    "    \"max_new_tokens\": 100,\n",
    "}\n",
    "\n",
    "lg_agent = LlamaGuardAgent(\"llama-guard\", gen_params)"
   ]
  },
  {
   "cell_type": "markdown",
   "id": "6c96e6e2",
   "metadata": {},
   "source": [
    "### Eval using unsafe model as Judge (or maybe Llama 3?)"
   ]
  },
  {
   "cell_type": "code",
   "execution_count": null,
   "id": "e246dd7c",
   "metadata": {},
   "outputs": [],
   "source": [
    "unsafe_agent = CeleryAgent(\"llama2-70b-unsafe-mp8-celery\", gen_params)\n",
    "\n",
    "# Get prompt template from PAIR\n",
    "# Format responses"
   ]
  },
  {
   "cell_type": "markdown",
   "id": "72f69a0e",
   "metadata": {},
   "source": [
    "### Eval using GPT-4"
   ]
  },
  {
   "cell_type": "code",
   "execution_count": null,
   "id": "bd024aea",
   "metadata": {},
   "outputs": [],
   "source": []
  }
 ],
 "metadata": {
  "kernelspec": {
   "display_name": "Python 3 (ipykernel)",
   "language": "python",
   "name": "python3"
  },
  "language_info": {
   "codemirror_mode": {
    "name": "ipython",
    "version": 3
   },
   "file_extension": ".py",
   "mimetype": "text/x-python",
   "name": "python",
   "nbconvert_exporter": "python",
   "pygments_lexer": "ipython3",
   "version": "3.8.3"
  }
 },
 "nbformat": 4,
 "nbformat_minor": 5
}
